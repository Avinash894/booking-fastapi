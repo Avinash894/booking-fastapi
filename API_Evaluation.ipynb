{
  "nbformat": 4,
  "nbformat_minor": 0,
  "metadata": {
    "colab": {
      "provenance": []
    },
    "kernelspec": {
      "name": "python3",
      "display_name": "Python 3"
    },
    "language_info": {
      "name": "python"
    }
  },
  "cells": [
    {
      "cell_type": "code",
      "execution_count": 1,
      "metadata": {
        "colab": {
          "base_uri": "https://localhost:8080/"
        },
        "id": "eewKhZHnRwpQ",
        "outputId": "5e4c9f0d-4a42-4554-b743-2642d356d1cf"
      },
      "outputs": [
        {
          "output_type": "stream",
          "name": "stdout",
          "text": [
            "{'total_revenue': 125000.5, 'cancellation_rate': 35.2, 'average_adr': 100.75, 'most_booked_country': 'Portugal'}\n"
          ]
        }
      ],
      "source": [
        "import requests\n",
        "\n",
        "url = \"https://ea50-34-169-125-119.ngrok-free.app/analytics\"\n",
        "\n",
        "response = requests.post(url)\n",
        "print(response.json())\n"
      ]
    },
    {
      "cell_type": "code",
      "source": [],
      "metadata": {
        "id": "Jf9Qn5ZHvDuh"
      },
      "execution_count": null,
      "outputs": []
    },
    {
      "cell_type": "code",
      "source": [
        "import requests\n",
        "\n",
        "url = \"https://ea50-34-169-125-119.ngrok-free.app/ask\"\n",
        "\n",
        "data = {\"query\": \"What is the cancellation percentage for July 2017?\"}\n",
        "response = requests.post(url, json=data)\n",
        "print(response.json())\n"
      ],
      "metadata": {
        "colab": {
          "base_uri": "https://localhost:8080/"
        },
        "id": "SI8OC--lSSyC",
        "outputId": "01ab4f9b-0804-4f3d-bd19-6f7d4ab14eec"
      },
      "execution_count": 3,
      "outputs": [
        {
          "output_type": "stream",
          "name": "stdout",
          "text": [
            "{'query': 'What is the cancellation percentage for July 2017?', 'response': 'The overall cancellation rate is: 37.34%'}\n"
          ]
        }
      ]
    },
    {
      "cell_type": "code",
      "source": [
        "import requests\n",
        "\n",
        "url = \"https://ea50-34-169-125-119.ngrok-free.app/ask\"\n",
        "\n",
        "data = {\"query\": \"What is the total revenue for July 2017?\"}\n",
        "response = requests.post(url, json=data)\n",
        "print(response.json())"
      ],
      "metadata": {
        "colab": {
          "base_uri": "https://localhost:8080/"
        },
        "id": "HMPOdwh48w6t",
        "outputId": "ab719d50-5daf-40f6-bc65-fc08b14be059"
      },
      "execution_count": 6,
      "outputs": [
        {
          "output_type": "stream",
          "name": "stdout",
          "text": [
            "{'query': 'What is the total revenue for July 2017?', 'response': 'Total revenue is: 3132959.07'}\n"
          ]
        }
      ]
    },
    {
      "cell_type": "code",
      "source": [
        "import requests\n",
        "\n",
        "# Define test cases (query → expected response)\n",
        "test_cases = [\n",
        "    {\"query\": \"What is the total revenue for July 2017?\", \"expected\": \"Total revenue is\"},\n",
        "    {\"query\": \"Which country had the most cancellations?\", \"expected\": \"country\"},\n",
        "    {\"query\": \"What is the average price of a hotel booking?\", \"expected\": \"average price\"}\n",
        "]\n",
        "\n",
        "correct = 0\n",
        "\n",
        "# Loop through test cases\n",
        "for test in test_cases:\n",
        "    response = requests.post(\"https://ea50-34-169-125-119.ngrok-free.app/ask\", json={\"query\": test[\"query\"]}).json()\n",
        "    if test[\"expected\"] in response[\"response\"]:\n",
        "        correct += 1\n",
        "\n",
        "# Calculate accuracy\n",
        "accuracy = (correct / len(test_cases)) * 100\n",
        "print(f\"✅ API Accuracy: {accuracy:.2f}%\")\n"
      ],
      "metadata": {
        "colab": {
          "base_uri": "https://localhost:8080/"
        },
        "id": "vniM-22_uxN4",
        "outputId": "121391e8-f037-4799-e177-3f12834c6884"
      },
      "execution_count": 4,
      "outputs": [
        {
          "output_type": "stream",
          "name": "stdout",
          "text": [
            "✅ API Accuracy: 100.00%\n"
          ]
        }
      ]
    },
    {
      "cell_type": "code",
      "source": [
        "import time\n",
        "\n",
        "query = \"What is the total revenue for July 2017?\"\n",
        "\n",
        "# Measure start time\n",
        "start_time = time.time()\n",
        "\n",
        "# Send API request\n",
        "response = requests.post(\"https://ea50-34-169-125-119.ngrok-free.app/ask\", json={\"query\": query}).json()\n",
        "\n",
        "# Measure end time\n",
        "end_time = time.time()\n",
        "\n",
        "# Calculate response time\n",
        "response_time = end_time - start_time\n",
        "print(f\"✅ API Response Time: {response_time:.2f} seconds\")\n"
      ],
      "metadata": {
        "colab": {
          "base_uri": "https://localhost:8080/"
        },
        "id": "ll4JrRV0vE13",
        "outputId": "e73e52a5-8771-448e-82d7-85801d54c056"
      },
      "execution_count": 5,
      "outputs": [
        {
          "output_type": "stream",
          "name": "stdout",
          "text": [
            "✅ API Response Time: 0.31 seconds\n"
          ]
        }
      ]
    }
  ]
}